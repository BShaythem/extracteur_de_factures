{
 "cells": [
  {
   "cell_type": "code",
   "execution_count": 1,
   "id": "9405001c",
   "metadata": {},
   "outputs": [
    {
     "name": "stdout",
     "output_type": "stream",
     "text": [
      "invoice\n",
      "\n",
      "FROM INVOICE # us-001\n",
      "East Repair Inc. INVOICE DATE 1102/2019\n",
      "1912 Harvest Lane P.O.# 2312/2019\n",
      "New York, NY 12210\n",
      "DUE DATE 26/02/2019\n",
      "BILL TO SHIP TO\n",
      "John Smith John Smith\n",
      "2 Court Square 3787 Pineview Drive\n",
      "New York, NY 12210 ‘Cambridge, MA 12210\n",
      "QTY DESCRIPTION UNIT PRICE AMOUNT\n",
      "1 Front and rear brake cables 100.00 100.00\n",
      "2 New set of pedal arms 15.00 30.00\n",
      "3 Labor 3hrs, 5.00 1.00\n",
      "Subtotal 145.00\n",
      "Sales Tax 6.25% 9.06\n",
      "\n",
      "TOTAL $154.06\n",
      "\n",
      "TERMS & CONDITIONS\n",
      "\n",
      "Payment is due within 15 days\n",
      "\n",
      "Please make checks payable to: East Repair Inc.\n",
      "\n",
      "Swath\n",
      "\n"
     ]
    }
   ],
   "source": [
    "# filepath: src/model.py\n",
    "import pytesseract\n",
    "import cv2\n",
    "#to start the virtual environment, run: venv\\Scripts\\activate \n",
    "# Set tesseract path if not in PATH\n",
    "pytesseract.pytesseract.tesseract_cmd = r'C:\\Program Files\\Tesseract-OCR\\tesseract.exe'\n",
    "\n",
    "def extract_text_from_invoice(image_path):\n",
    "    image = cv2.imread(image_path)\n",
    "    if image is None:\n",
    "        raise FileNotFoundError(f\"Image not found at path: {image_path}\")\n",
    "    text = pytesseract.image_to_string(image)\n",
    "    return text\n",
    "\n",
    "print(extract_text_from_invoice(\"data/invoice_sample.png\"))\n"
   ]
  },
  {
   "cell_type": "code",
   "execution_count": null,
   "id": "02cedd1b",
   "metadata": {},
   "outputs": [],
   "source": []
  }
 ],
 "metadata": {
  "kernelspec": {
   "display_name": "venv",
   "language": "python",
   "name": "python3"
  },
  "language_info": {
   "codemirror_mode": {
    "name": "ipython",
    "version": 3
   },
   "file_extension": ".py",
   "mimetype": "text/x-python",
   "name": "python",
   "nbconvert_exporter": "python",
   "pygments_lexer": "ipython3",
   "version": "3.12.9"
  }
 },
 "nbformat": 4,
 "nbformat_minor": 5
}
